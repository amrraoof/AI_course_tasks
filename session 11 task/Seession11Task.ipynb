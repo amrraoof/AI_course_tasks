{
 "cells": [
  {
   "cell_type": "code",
   "execution_count": 2,
   "id": "246eefeb",
   "metadata": {},
   "outputs": [
    {
     "name": "stdout",
     "output_type": "stream",
     "text": [
      "Names are:  ['Ahmed_Abdo', 'Ali Hesham', 'Amr_Abdo', 'Mohammed_Abdelrahman', 'Emad Adel', 'Mahmoud Abdo']\n",
      "Phone numbers are:  ['01142310222', '01143231324', '01099548942', '01112345678', '01111424345', '01112652323']\n",
      "Mails are:  ['ahmed.22@gmail.com', 'ali.22@gmail.com', 'amr.22@yahoo.com', 'mohammed.2342@yahoo.com', 'emad22346@yahoo.com', 'mahmoud.abdo22@gmail.com']\n",
      "FullData:  {'Name': ['Ahmed_Abdo', 'Ali Hesham', 'Amr_Abdo', 'Mohammed_Abdelrahman', 'Emad Adel', 'Mahmoud Abdo'], 'Phone Numbers': ['01142310222', '01143231324', '01099548942', '01112345678', '01111424345', '01112652323'], 'Mails': ['ahmed.22@gmail.com', 'ali.22@gmail.com', 'amr.22@yahoo.com', 'mohammed.2342@yahoo.com', 'emad22346@yahoo.com', 'mahmoud.abdo22@gmail.com']}\n"
     ]
    }
   ],
   "source": [
    "file = open(\"Session11Task.txt\" , \"r\")\n",
    "text = file.read()\n",
    "Names = []\n",
    "PhoneNumbers = []\n",
    "Mails = []\n",
    "import re\n",
    "pattern1 = re.compile(r\"[A-Z][a-z]+[\\s_]?[A-Z][a-z]+\")\n",
    "names = pattern1.finditer(text)\n",
    "for name in names:\n",
    "    Names.append(text[name.span()[0]:name.span()[1]])\n",
    "\n",
    "pattern = re.compile(r\"0[\\d]{10}\")\n",
    "nums = pattern.finditer(text)\n",
    "for num in nums:\n",
    "    PhoneNumbers.append(text[num.span()[0]:num.span()[1]])\n",
    "\n",
    "pattern2 = re.compile(r\"[a-z\\d.]+@[a-z]+\\.[a-z]+\")\n",
    "mails = pattern2.finditer(text)\n",
    "for mail in mails:    \n",
    "    Mails.append(text[mail.span()[0]:mail.span()[1]])\n",
    "\n",
    "FullData ={\"Name\":Names , \"Phone Numbers\":PhoneNumbers , \"Mails\":Mails}    \n",
    "print(\"Names are: \", Names)\n",
    "print(\"Phone numbers are: \" ,PhoneNumbers)\n",
    "print(\"Mails are: \",Mails) \n",
    "print(\"FullData: \" ,FullData )"
   ]
  },
  {
   "cell_type": "code",
   "execution_count": 1,
   "id": "b9604a5a",
   "metadata": {},
   "outputs": [
    {
     "name": "stdout",
     "output_type": "stream",
     "text": [
      "['Amr Abdelraoof', 'Ahmed Amr', 'Ali Mohammed']\n",
      "['amrmh3.ejx@gvshjsaj.com', 'khw.shjg@gmai.co']\n",
      "['01143210981', '01142317242', '01524232413']\n"
     ]
    }
   ],
   "source": [
    "#task with word file\n",
    "import docx \n",
    "import re \n",
    "doc= docx.Document('task5.docx')\n",
    "text_to_search=\"\"\n",
    "\n",
    "for para in doc.paragraphs:\n",
    "    text_to_search += para.text\n",
    "    \n",
    "pattern1 = re.compile(r\"[A-Z][a-z]+\\s[A-z][a-z]+\")\n",
    "matches1 = pattern1.finditer(text_to_search)\n",
    "Names = []\n",
    "for match1 in matches1:\n",
    "    Names.append(text_to_search[match1.span()[0]:match1.span()[1]])\n",
    "    \n",
    "Numbers=[]\n",
    "pattern2 = re.compile(r\"0\\d{10}\")\n",
    "matches2 = pattern2.finditer(text_to_search)\n",
    "for match2 in matches2:\n",
    "    Numbers.append(text_to_search[match2.span()[0]:match2.span()[1]])\n",
    "\n",
    "Mails= []\n",
    "pattern3 = re.compile(r\"[a-z][A-Za-z\\d.-]+@[a-z_]+\\.[a-z]+\")\n",
    "matches3 = pattern3.finditer(text_to_search)\n",
    "for match3 in matches3:\n",
    "    Mails.append(text_to_search[match3.span()[0]:match3.span()[1]])\n",
    "\n",
    "\n",
    "print(Names)\n",
    "print(Mails)\n",
    "print(Numbers)"
   ]
  },
  {
   "cell_type": "code",
   "execution_count": null,
   "id": "cb3fc53b",
   "metadata": {},
   "outputs": [],
   "source": []
  }
 ],
 "metadata": {
  "kernelspec": {
   "display_name": "Python 3 (ipykernel)",
   "language": "python",
   "name": "python3"
  },
  "language_info": {
   "codemirror_mode": {
    "name": "ipython",
    "version": 3
   },
   "file_extension": ".py",
   "mimetype": "text/x-python",
   "name": "python",
   "nbconvert_exporter": "python",
   "pygments_lexer": "ipython3",
   "version": "3.9.12"
  }
 },
 "nbformat": 4,
 "nbformat_minor": 5
}
