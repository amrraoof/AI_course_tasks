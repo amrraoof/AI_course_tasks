{
 "cells": [
  {
   "cell_type": "code",
   "execution_count": 1,
   "id": "ff78dbbf",
   "metadata": {},
   "outputs": [],
   "source": [
    "import Geometric_shapes"
   ]
  },
  {
   "cell_type": "code",
   "execution_count": 2,
   "id": "cccd8df4",
   "metadata": {},
   "outputs": [
    {
     "name": "stdout",
     "output_type": "stream",
     "text": [
      "please enter [1 for triangle,2 for square,3 for rectangle,4 for rhombus,5 for parallelogram,6 for circle]: 1\n",
      "Please enter 1st rib length: 10\n",
      "Please enter 2nd rib length: 13\n",
      "Please enter angle betwen: 30\n",
      "Please enter 3ed rib length: 15\n",
      "The triangle area is: 32.49999999999999 and triangle circumference is: 38.0\n"
     ]
    }
   ],
   "source": [
    "Geometric_shapes.laws()"
   ]
  },
  {
   "cell_type": "code",
   "execution_count": 3,
   "id": "af691829",
   "metadata": {},
   "outputs": [
    {
     "name": "stdout",
     "output_type": "stream",
     "text": [
      "please enter [1 for triangle,2 for square,3 for rectangle,4 for rhombus,5 for parallelogram,6 for circle]: 2\n",
      "Please enter rib length: 10\n",
      "square area is: 100.0 and Square circumference is: 40.0 \n"
     ]
    }
   ],
   "source": [
    "Geometric_shapes.laws()"
   ]
  },
  {
   "cell_type": "code",
   "execution_count": 4,
   "id": "15ea1473",
   "metadata": {},
   "outputs": [
    {
     "name": "stdout",
     "output_type": "stream",
     "text": [
      "please enter [1 for triangle,2 for square,3 for rectangle,4 for rhombus,5 for parallelogram,6 for circle]: 3\n",
      "Please enter 1st rib length: 10\n",
      "Please enter 2nd rib length: 15\n",
      "rectangle area is: 150.0 and rectangle circumference is: 50.0 \n"
     ]
    }
   ],
   "source": [
    "Geometric_shapes.laws()"
   ]
  },
  {
   "cell_type": "code",
   "execution_count": 5,
   "id": "c27c0584",
   "metadata": {},
   "outputs": [
    {
     "name": "stdout",
     "output_type": "stream",
     "text": [
      "please enter [1 for triangle,2 for square,3 for rectangle,4 for rhombus,5 for parallelogram,6 for circle]: 4\n",
      "Please enter base length: 10\n",
      "Please enter height length: 25\n",
      "Rhombus area is: 250.0 and Rhombus circumference is: 40.0 \n"
     ]
    }
   ],
   "source": [
    "Geometric_shapes.laws()"
   ]
  },
  {
   "cell_type": "code",
   "execution_count": 6,
   "id": "9fb37124",
   "metadata": {},
   "outputs": [
    {
     "name": "stdout",
     "output_type": "stream",
     "text": [
      "please enter [1 for triangle,2 for square,3 for rectangle,4 for rhombus,5 for parallelogram,6 for circle]: 5\n",
      "Please enter 1st rib length: 15\n",
      "Please enter the length of the rib next to 1st rib: 12\n",
      "Please enter the length of the corresponding height of the 1st rib: 11\n",
      "Parallalogram area is: 165.0 and Parallalogram circumference is: 52.0 \n"
     ]
    }
   ],
   "source": [
    "Geometric_shapes.laws()"
   ]
  },
  {
   "cell_type": "code",
   "execution_count": 7,
   "id": "f4c1b7ee",
   "metadata": {},
   "outputs": [
    {
     "name": "stdout",
     "output_type": "stream",
     "text": [
      "please enter [1 for triangle,2 for square,3 for rectangle,4 for rhombus,5 for parallelogram,6 for circle]: 6\n",
      "Please enter radius length: 10\n",
      "Circlur area is: 314.1592653589793 and Circlur circumference is: 62.83185307179586 \n"
     ]
    }
   ],
   "source": [
    "Geometric_shapes.laws()"
   ]
  },
  {
   "cell_type": "code",
   "execution_count": null,
   "id": "e0c57526",
   "metadata": {},
   "outputs": [],
   "source": []
  }
 ],
 "metadata": {
  "kernelspec": {
   "display_name": "Python 3 (ipykernel)",
   "language": "python",
   "name": "python3"
  },
  "language_info": {
   "codemirror_mode": {
    "name": "ipython",
    "version": 3
   },
   "file_extension": ".py",
   "mimetype": "text/x-python",
   "name": "python",
   "nbconvert_exporter": "python",
   "pygments_lexer": "ipython3",
   "version": "3.9.12"
  }
 },
 "nbformat": 4,
 "nbformat_minor": 5
}
